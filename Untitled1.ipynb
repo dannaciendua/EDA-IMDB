{
 "cells": [
  {
   "cell_type": "code",
   "execution_count": 4,
   "id": "4c8f2dea-4f6b-40a0-b4b5-6d6cf9703175",
   "metadata": {},
   "outputs": [],
   "source": [
    "import pandas as pd\n",
    "import numpy as np\n",
    "from matplotlib import pyplot as plt\n",
    "import seaborn as sns\n",
    "import matplotlib.pyplot as plt"
   ]
  },
  {
   "cell_type": "code",
   "execution_count": 5,
   "id": "3df96eb5-17e0-4981-9f02-3d9d28b11dd8",
   "metadata": {},
   "outputs": [],
   "source": [
    "#table with names, profession and linked with titles \n",
    "name_basics = pd.read_csv(\"/Users/dannaciendua/Documents/CodeOp/archive/name.basics.tsv\", delimiter=\"\\t\")"
   ]
  },
  {
   "cell_type": "code",
   "execution_count": 6,
   "id": "2492ed8f-eff7-4f1e-9a45-bc34e434836a",
   "metadata": {},
   "outputs": [],
   "source": [
    "#table with title region\tlanguage types\n",
    "title_akas = pd.read_csv(\"/Users/dannaciendua/Documents/CodeOp/archive/title.akas.tsv\", delimiter=\"\\t\")"
   ]
  },
  {
   "cell_type": "code",
   "execution_count": 17,
   "id": "51d91d93-461f-4408-9d70-9b49666dbf7a",
   "metadata": {},
   "outputs": [],
   "source": [
    "#table with titleType\tprimaryTitle\toriginalTitle\tisAdult\tstartYear\tendYear\truntimeMinutes\tgenres\n",
    "title_basics = pd.read_csv(\"/Users/dannaciendua/Documents/CodeOp/archive/title.basics.tsv\", delimiter=\"\\t\",low_memory=False)"
   ]
  },
  {
   "cell_type": "code",
   "execution_count": 7,
   "id": "709c2d9b-994e-4ab1-8764-5ca7b0e4f33d",
   "metadata": {},
   "outputs": [
    {
     "data": {
      "text/html": [
       "<div>\n",
       "<style scoped>\n",
       "    .dataframe tbody tr th:only-of-type {\n",
       "        vertical-align: middle;\n",
       "    }\n",
       "\n",
       "    .dataframe tbody tr th {\n",
       "        vertical-align: top;\n",
       "    }\n",
       "\n",
       "    .dataframe thead th {\n",
       "        text-align: right;\n",
       "    }\n",
       "</style>\n",
       "<table border=\"1\" class=\"dataframe\">\n",
       "  <thead>\n",
       "    <tr style=\"text-align: right;\">\n",
       "      <th></th>\n",
       "      <th>nconst</th>\n",
       "      <th>primaryName</th>\n",
       "      <th>birthYear</th>\n",
       "      <th>deathYear</th>\n",
       "      <th>primaryProfession</th>\n",
       "      <th>knownForTitles</th>\n",
       "    </tr>\n",
       "  </thead>\n",
       "  <tbody>\n",
       "    <tr>\n",
       "      <th>0</th>\n",
       "      <td>nm0000001</td>\n",
       "      <td>Fred Astaire</td>\n",
       "      <td>1899</td>\n",
       "      <td>1987</td>\n",
       "      <td>actor,miscellaneous,producer</td>\n",
       "      <td>tt0072308,tt0050419,tt0053137,tt0027125</td>\n",
       "    </tr>\n",
       "    <tr>\n",
       "      <th>1</th>\n",
       "      <td>nm0000002</td>\n",
       "      <td>Lauren Bacall</td>\n",
       "      <td>1924</td>\n",
       "      <td>2014</td>\n",
       "      <td>actress,soundtrack,archive_footage</td>\n",
       "      <td>tt0037382,tt0075213,tt0117057,tt0038355</td>\n",
       "    </tr>\n",
       "    <tr>\n",
       "      <th>2</th>\n",
       "      <td>nm0000003</td>\n",
       "      <td>Brigitte Bardot</td>\n",
       "      <td>1934</td>\n",
       "      <td>\\N</td>\n",
       "      <td>actress,music_department,producer</td>\n",
       "      <td>tt0057345,tt0049189,tt0056404,tt0054452</td>\n",
       "    </tr>\n",
       "    <tr>\n",
       "      <th>3</th>\n",
       "      <td>nm0000004</td>\n",
       "      <td>John Belushi</td>\n",
       "      <td>1949</td>\n",
       "      <td>1982</td>\n",
       "      <td>actor,writer,music_department</td>\n",
       "      <td>tt0072562,tt0077975,tt0080455,tt0078723</td>\n",
       "    </tr>\n",
       "    <tr>\n",
       "      <th>4</th>\n",
       "      <td>nm0000005</td>\n",
       "      <td>Ingmar Bergman</td>\n",
       "      <td>1918</td>\n",
       "      <td>2007</td>\n",
       "      <td>writer,director,actor</td>\n",
       "      <td>tt0050986,tt0083922,tt0050976,tt0069467</td>\n",
       "    </tr>\n",
       "  </tbody>\n",
       "</table>\n",
       "</div>"
      ],
      "text/plain": [
       "      nconst      primaryName birthYear deathYear  \\\n",
       "0  nm0000001     Fred Astaire      1899      1987   \n",
       "1  nm0000002    Lauren Bacall      1924      2014   \n",
       "2  nm0000003  Brigitte Bardot      1934        \\N   \n",
       "3  nm0000004     John Belushi      1949      1982   \n",
       "4  nm0000005   Ingmar Bergman      1918      2007   \n",
       "\n",
       "                    primaryProfession                           knownForTitles  \n",
       "0        actor,miscellaneous,producer  tt0072308,tt0050419,tt0053137,tt0027125  \n",
       "1  actress,soundtrack,archive_footage  tt0037382,tt0075213,tt0117057,tt0038355  \n",
       "2   actress,music_department,producer  tt0057345,tt0049189,tt0056404,tt0054452  \n",
       "3       actor,writer,music_department  tt0072562,tt0077975,tt0080455,tt0078723  \n",
       "4               writer,director,actor  tt0050986,tt0083922,tt0050976,tt0069467  "
      ]
     },
     "execution_count": 7,
     "metadata": {},
     "output_type": "execute_result"
    }
   ],
   "source": [
    "#print the first 5 rows from the table name_basics\n",
    "name_basics.head(5)"
   ]
  },
  {
   "cell_type": "code",
   "execution_count": 13,
   "id": "ce55939e",
   "metadata": {},
   "outputs": [
    {
     "data": {
      "text/html": [
       "<div>\n",
       "<style scoped>\n",
       "    .dataframe tbody tr th:only-of-type {\n",
       "        vertical-align: middle;\n",
       "    }\n",
       "\n",
       "    .dataframe tbody tr th {\n",
       "        vertical-align: top;\n",
       "    }\n",
       "\n",
       "    .dataframe thead th {\n",
       "        text-align: right;\n",
       "    }\n",
       "</style>\n",
       "<table border=\"1\" class=\"dataframe\">\n",
       "  <thead>\n",
       "    <tr style=\"text-align: right;\">\n",
       "      <th></th>\n",
       "      <th>nconst</th>\n",
       "      <th>primaryName</th>\n",
       "      <th>birthYear</th>\n",
       "      <th>deathYear</th>\n",
       "      <th>primaryProfession</th>\n",
       "      <th>knownForTitles</th>\n",
       "    </tr>\n",
       "  </thead>\n",
       "  <tbody>\n",
       "    <tr>\n",
       "      <th>count</th>\n",
       "      <td>13914536</td>\n",
       "      <td>13914528</td>\n",
       "      <td>13914536</td>\n",
       "      <td>13914536</td>\n",
       "      <td>13914536</td>\n",
       "      <td>13914536</td>\n",
       "    </tr>\n",
       "    <tr>\n",
       "      <th>unique</th>\n",
       "      <td>13914536</td>\n",
       "      <td>10688386</td>\n",
       "      <td>544</td>\n",
       "      <td>487</td>\n",
       "      <td>23067</td>\n",
       "      <td>5798284</td>\n",
       "    </tr>\n",
       "    <tr>\n",
       "      <th>top</th>\n",
       "      <td>nm0000001</td>\n",
       "      <td>Alex</td>\n",
       "      <td>\\N</td>\n",
       "      <td>\\N</td>\n",
       "      <td>\\N</td>\n",
       "      <td>\\N</td>\n",
       "    </tr>\n",
       "    <tr>\n",
       "      <th>freq</th>\n",
       "      <td>1</td>\n",
       "      <td>524</td>\n",
       "      <td>13284894</td>\n",
       "      <td>13678566</td>\n",
       "      <td>2696122</td>\n",
       "      <td>1568166</td>\n",
       "    </tr>\n",
       "  </tbody>\n",
       "</table>\n",
       "</div>"
      ],
      "text/plain": [
       "           nconst primaryName birthYear deathYear primaryProfession  \\\n",
       "count    13914536    13914528  13914536  13914536          13914536   \n",
       "unique   13914536    10688386       544       487             23067   \n",
       "top     nm0000001        Alex        \\N        \\N                \\N   \n",
       "freq            1         524  13284894  13678566           2696122   \n",
       "\n",
       "       knownForTitles  \n",
       "count        13914536  \n",
       "unique        5798284  \n",
       "top                \\N  \n",
       "freq          1568166  "
      ]
     },
     "execution_count": 13,
     "metadata": {},
     "output_type": "execute_result"
    }
   ],
   "source": [
    "name_basics.describe()"
   ]
  },
  {
   "cell_type": "code",
   "execution_count": 8,
   "id": "62f84925-fe74-4779-9619-04dbc8d41ffe",
   "metadata": {},
   "outputs": [
    {
     "data": {
      "text/html": [
       "<div>\n",
       "<style scoped>\n",
       "    .dataframe tbody tr th:only-of-type {\n",
       "        vertical-align: middle;\n",
       "    }\n",
       "\n",
       "    .dataframe tbody tr th {\n",
       "        vertical-align: top;\n",
       "    }\n",
       "\n",
       "    .dataframe thead th {\n",
       "        text-align: right;\n",
       "    }\n",
       "</style>\n",
       "<table border=\"1\" class=\"dataframe\">\n",
       "  <thead>\n",
       "    <tr style=\"text-align: right;\">\n",
       "      <th></th>\n",
       "      <th>titleId</th>\n",
       "      <th>ordering</th>\n",
       "      <th>title</th>\n",
       "      <th>region</th>\n",
       "      <th>language</th>\n",
       "      <th>types</th>\n",
       "      <th>attributes</th>\n",
       "      <th>isOriginalTitle</th>\n",
       "    </tr>\n",
       "  </thead>\n",
       "  <tbody>\n",
       "    <tr>\n",
       "      <th>0</th>\n",
       "      <td>tt0000001</td>\n",
       "      <td>1</td>\n",
       "      <td>Carmencita</td>\n",
       "      <td>\\N</td>\n",
       "      <td>\\N</td>\n",
       "      <td>original</td>\n",
       "      <td>\\N</td>\n",
       "      <td>1</td>\n",
       "    </tr>\n",
       "    <tr>\n",
       "      <th>1</th>\n",
       "      <td>tt0000001</td>\n",
       "      <td>2</td>\n",
       "      <td>Carmencita</td>\n",
       "      <td>DE</td>\n",
       "      <td>\\N</td>\n",
       "      <td>\\N</td>\n",
       "      <td>literal title</td>\n",
       "      <td>0</td>\n",
       "    </tr>\n",
       "    <tr>\n",
       "      <th>2</th>\n",
       "      <td>tt0000001</td>\n",
       "      <td>3</td>\n",
       "      <td>Carmencita</td>\n",
       "      <td>US</td>\n",
       "      <td>\\N</td>\n",
       "      <td>imdbDisplay</td>\n",
       "      <td>\\N</td>\n",
       "      <td>0</td>\n",
       "    </tr>\n",
       "    <tr>\n",
       "      <th>3</th>\n",
       "      <td>tt0000001</td>\n",
       "      <td>4</td>\n",
       "      <td>Carmencita - spanyol tánc</td>\n",
       "      <td>HU</td>\n",
       "      <td>\\N</td>\n",
       "      <td>imdbDisplay</td>\n",
       "      <td>\\N</td>\n",
       "      <td>0</td>\n",
       "    </tr>\n",
       "    <tr>\n",
       "      <th>4</th>\n",
       "      <td>tt0000001</td>\n",
       "      <td>5</td>\n",
       "      <td>Καρμενσίτα</td>\n",
       "      <td>GR</td>\n",
       "      <td>\\N</td>\n",
       "      <td>imdbDisplay</td>\n",
       "      <td>\\N</td>\n",
       "      <td>0</td>\n",
       "    </tr>\n",
       "  </tbody>\n",
       "</table>\n",
       "</div>"
      ],
      "text/plain": [
       "     titleId  ordering                      title region language  \\\n",
       "0  tt0000001         1                 Carmencita     \\N       \\N   \n",
       "1  tt0000001         2                 Carmencita     DE       \\N   \n",
       "2  tt0000001         3                 Carmencita     US       \\N   \n",
       "3  tt0000001         4  Carmencita - spanyol tánc     HU       \\N   \n",
       "4  tt0000001         5                 Καρμενσίτα     GR       \\N   \n",
       "\n",
       "         types     attributes  isOriginalTitle  \n",
       "0     original             \\N                1  \n",
       "1           \\N  literal title                0  \n",
       "2  imdbDisplay             \\N                0  \n",
       "3  imdbDisplay             \\N                0  \n",
       "4  imdbDisplay             \\N                0  "
      ]
     },
     "execution_count": 8,
     "metadata": {},
     "output_type": "execute_result"
    }
   ],
   "source": [
    "title_akas.head()"
   ]
  },
  {
   "cell_type": "code",
   "execution_count": 14,
   "id": "b6fa272b",
   "metadata": {},
   "outputs": [
    {
     "data": {
      "text/html": [
       "<div>\n",
       "<style scoped>\n",
       "    .dataframe tbody tr th:only-of-type {\n",
       "        vertical-align: middle;\n",
       "    }\n",
       "\n",
       "    .dataframe tbody tr th {\n",
       "        vertical-align: top;\n",
       "    }\n",
       "\n",
       "    .dataframe thead th {\n",
       "        text-align: right;\n",
       "    }\n",
       "</style>\n",
       "<table border=\"1\" class=\"dataframe\">\n",
       "  <thead>\n",
       "    <tr style=\"text-align: right;\">\n",
       "      <th></th>\n",
       "      <th>ordering</th>\n",
       "      <th>isOriginalTitle</th>\n",
       "    </tr>\n",
       "  </thead>\n",
       "  <tbody>\n",
       "    <tr>\n",
       "      <th>count</th>\n",
       "      <td>5.024845e+07</td>\n",
       "      <td>5.024845e+07</td>\n",
       "    </tr>\n",
       "    <tr>\n",
       "      <th>mean</th>\n",
       "      <td>4.290966e+00</td>\n",
       "      <td>2.223233e-01</td>\n",
       "    </tr>\n",
       "    <tr>\n",
       "      <th>std</th>\n",
       "      <td>3.988447e+00</td>\n",
       "      <td>4.158072e-01</td>\n",
       "    </tr>\n",
       "    <tr>\n",
       "      <th>min</th>\n",
       "      <td>1.000000e+00</td>\n",
       "      <td>0.000000e+00</td>\n",
       "    </tr>\n",
       "    <tr>\n",
       "      <th>25%</th>\n",
       "      <td>2.000000e+00</td>\n",
       "      <td>0.000000e+00</td>\n",
       "    </tr>\n",
       "    <tr>\n",
       "      <th>50%</th>\n",
       "      <td>4.000000e+00</td>\n",
       "      <td>0.000000e+00</td>\n",
       "    </tr>\n",
       "    <tr>\n",
       "      <th>75%</th>\n",
       "      <td>6.000000e+00</td>\n",
       "      <td>0.000000e+00</td>\n",
       "    </tr>\n",
       "    <tr>\n",
       "      <th>max</th>\n",
       "      <td>2.510000e+02</td>\n",
       "      <td>1.000000e+00</td>\n",
       "    </tr>\n",
       "  </tbody>\n",
       "</table>\n",
       "</div>"
      ],
      "text/plain": [
       "           ordering  isOriginalTitle\n",
       "count  5.024845e+07     5.024845e+07\n",
       "mean   4.290966e+00     2.223233e-01\n",
       "std    3.988447e+00     4.158072e-01\n",
       "min    1.000000e+00     0.000000e+00\n",
       "25%    2.000000e+00     0.000000e+00\n",
       "50%    4.000000e+00     0.000000e+00\n",
       "75%    6.000000e+00     0.000000e+00\n",
       "max    2.510000e+02     1.000000e+00"
      ]
     },
     "execution_count": 14,
     "metadata": {},
     "output_type": "execute_result"
    }
   ],
   "source": [
    "title_akas.describe()"
   ]
  },
  {
   "cell_type": "code",
   "execution_count": 18,
   "id": "48013bad-d667-4480-b633-fb5294c9dfb6",
   "metadata": {},
   "outputs": [
    {
     "data": {
      "text/html": [
       "<div>\n",
       "<style scoped>\n",
       "    .dataframe tbody tr th:only-of-type {\n",
       "        vertical-align: middle;\n",
       "    }\n",
       "\n",
       "    .dataframe tbody tr th {\n",
       "        vertical-align: top;\n",
       "    }\n",
       "\n",
       "    .dataframe thead th {\n",
       "        text-align: right;\n",
       "    }\n",
       "</style>\n",
       "<table border=\"1\" class=\"dataframe\">\n",
       "  <thead>\n",
       "    <tr style=\"text-align: right;\">\n",
       "      <th></th>\n",
       "      <th>tconst</th>\n",
       "      <th>titleType</th>\n",
       "      <th>primaryTitle</th>\n",
       "      <th>originalTitle</th>\n",
       "      <th>isAdult</th>\n",
       "      <th>startYear</th>\n",
       "      <th>endYear</th>\n",
       "      <th>runtimeMinutes</th>\n",
       "      <th>genres</th>\n",
       "    </tr>\n",
       "  </thead>\n",
       "  <tbody>\n",
       "    <tr>\n",
       "      <th>0</th>\n",
       "      <td>tt0000001</td>\n",
       "      <td>short</td>\n",
       "      <td>Carmencita</td>\n",
       "      <td>Carmencita</td>\n",
       "      <td>0</td>\n",
       "      <td>1894</td>\n",
       "      <td>\\N</td>\n",
       "      <td>1</td>\n",
       "      <td>Documentary,Short</td>\n",
       "    </tr>\n",
       "    <tr>\n",
       "      <th>1</th>\n",
       "      <td>tt0000002</td>\n",
       "      <td>short</td>\n",
       "      <td>Le clown et ses chiens</td>\n",
       "      <td>Le clown et ses chiens</td>\n",
       "      <td>0</td>\n",
       "      <td>1892</td>\n",
       "      <td>\\N</td>\n",
       "      <td>5</td>\n",
       "      <td>Animation,Short</td>\n",
       "    </tr>\n",
       "    <tr>\n",
       "      <th>2</th>\n",
       "      <td>tt0000003</td>\n",
       "      <td>short</td>\n",
       "      <td>Poor Pierrot</td>\n",
       "      <td>Pauvre Pierrot</td>\n",
       "      <td>0</td>\n",
       "      <td>1892</td>\n",
       "      <td>\\N</td>\n",
       "      <td>5</td>\n",
       "      <td>Animation,Comedy,Romance</td>\n",
       "    </tr>\n",
       "    <tr>\n",
       "      <th>3</th>\n",
       "      <td>tt0000004</td>\n",
       "      <td>short</td>\n",
       "      <td>Un bon bock</td>\n",
       "      <td>Un bon bock</td>\n",
       "      <td>0</td>\n",
       "      <td>1892</td>\n",
       "      <td>\\N</td>\n",
       "      <td>12</td>\n",
       "      <td>Animation,Short</td>\n",
       "    </tr>\n",
       "    <tr>\n",
       "      <th>4</th>\n",
       "      <td>tt0000005</td>\n",
       "      <td>short</td>\n",
       "      <td>Blacksmith Scene</td>\n",
       "      <td>Blacksmith Scene</td>\n",
       "      <td>0</td>\n",
       "      <td>1893</td>\n",
       "      <td>\\N</td>\n",
       "      <td>1</td>\n",
       "      <td>Comedy,Short</td>\n",
       "    </tr>\n",
       "  </tbody>\n",
       "</table>\n",
       "</div>"
      ],
      "text/plain": [
       "      tconst titleType            primaryTitle           originalTitle  \\\n",
       "0  tt0000001     short              Carmencita              Carmencita   \n",
       "1  tt0000002     short  Le clown et ses chiens  Le clown et ses chiens   \n",
       "2  tt0000003     short            Poor Pierrot          Pauvre Pierrot   \n",
       "3  tt0000004     short             Un bon bock             Un bon bock   \n",
       "4  tt0000005     short        Blacksmith Scene        Blacksmith Scene   \n",
       "\n",
       "  isAdult startYear endYear runtimeMinutes                    genres  \n",
       "0       0      1894      \\N              1         Documentary,Short  \n",
       "1       0      1892      \\N              5           Animation,Short  \n",
       "2       0      1892      \\N              5  Animation,Comedy,Romance  \n",
       "3       0      1892      \\N             12           Animation,Short  \n",
       "4       0      1893      \\N              1              Comedy,Short  "
      ]
     },
     "execution_count": 18,
     "metadata": {},
     "output_type": "execute_result"
    }
   ],
   "source": [
    "title_basics.head()"
   ]
  },
  {
   "cell_type": "code",
   "execution_count": 19,
   "id": "8098e0c3",
   "metadata": {},
   "outputs": [
    {
     "data": {
      "text/html": [
       "<div>\n",
       "<style scoped>\n",
       "    .dataframe tbody tr th:only-of-type {\n",
       "        vertical-align: middle;\n",
       "    }\n",
       "\n",
       "    .dataframe tbody tr th {\n",
       "        vertical-align: top;\n",
       "    }\n",
       "\n",
       "    .dataframe thead th {\n",
       "        text-align: right;\n",
       "    }\n",
       "</style>\n",
       "<table border=\"1\" class=\"dataframe\">\n",
       "  <thead>\n",
       "    <tr style=\"text-align: right;\">\n",
       "      <th></th>\n",
       "      <th>tconst</th>\n",
       "      <th>titleType</th>\n",
       "      <th>primaryTitle</th>\n",
       "      <th>originalTitle</th>\n",
       "      <th>isAdult</th>\n",
       "      <th>startYear</th>\n",
       "      <th>endYear</th>\n",
       "      <th>runtimeMinutes</th>\n",
       "      <th>genres</th>\n",
       "    </tr>\n",
       "  </thead>\n",
       "  <tbody>\n",
       "    <tr>\n",
       "      <th>count</th>\n",
       "      <td>11204418</td>\n",
       "      <td>11204418</td>\n",
       "      <td>11204399</td>\n",
       "      <td>11204399</td>\n",
       "      <td>11204418</td>\n",
       "      <td>11204418</td>\n",
       "      <td>11204418</td>\n",
       "      <td>11204418</td>\n",
       "      <td>11203788</td>\n",
       "    </tr>\n",
       "    <tr>\n",
       "      <th>unique</th>\n",
       "      <td>11204418</td>\n",
       "      <td>11</td>\n",
       "      <td>5029377</td>\n",
       "      <td>5053821</td>\n",
       "      <td>42</td>\n",
       "      <td>152</td>\n",
       "      <td>98</td>\n",
       "      <td>941</td>\n",
       "      <td>2380</td>\n",
       "    </tr>\n",
       "    <tr>\n",
       "      <th>top</th>\n",
       "      <td>tt0000001</td>\n",
       "      <td>tvEpisode</td>\n",
       "      <td>Episode #1.1</td>\n",
       "      <td>Episode #1.1</td>\n",
       "      <td>0</td>\n",
       "      <td>\\N</td>\n",
       "      <td>\\N</td>\n",
       "      <td>\\N</td>\n",
       "      <td>Drama</td>\n",
       "    </tr>\n",
       "    <tr>\n",
       "      <th>freq</th>\n",
       "      <td>1</td>\n",
       "      <td>8603771</td>\n",
       "      <td>53298</td>\n",
       "      <td>53298</td>\n",
       "      <td>10843679</td>\n",
       "      <td>1416961</td>\n",
       "      <td>11072785</td>\n",
       "      <td>7667529</td>\n",
       "      <td>1268899</td>\n",
       "    </tr>\n",
       "  </tbody>\n",
       "</table>\n",
       "</div>"
      ],
      "text/plain": [
       "           tconst  titleType  primaryTitle originalTitle   isAdult startYear  \\\n",
       "count    11204418   11204418      11204399      11204399  11204418  11204418   \n",
       "unique   11204418         11       5029377       5053821        42       152   \n",
       "top     tt0000001  tvEpisode  Episode #1.1  Episode #1.1         0        \\N   \n",
       "freq            1    8603771         53298         53298  10843679   1416961   \n",
       "\n",
       "         endYear runtimeMinutes    genres  \n",
       "count   11204418       11204418  11203788  \n",
       "unique        98            941      2380  \n",
       "top           \\N             \\N     Drama  \n",
       "freq    11072785        7667529   1268899  "
      ]
     },
     "execution_count": 19,
     "metadata": {},
     "output_type": "execute_result"
    }
   ],
   "source": [
    "title_basics.describe()"
   ]
  },
  {
   "cell_type": "code",
   "execution_count": 23,
   "id": "cf043819-a8e5-41ab-874e-90ae87decdc4",
   "metadata": {},
   "outputs": [
    {
     "data": {
      "text/plain": [
       "0           0\n",
       "1           0\n",
       "2           0\n",
       "3           0\n",
       "4           0\n",
       "           ..\n",
       "11204413    0\n",
       "11204414    0\n",
       "11204415    0\n",
       "11204416    0\n",
       "11204417    0\n",
       "Name: isAdult, Length: 11204418, dtype: object"
      ]
     },
     "execution_count": 23,
     "metadata": {},
     "output_type": "execute_result"
    }
   ],
   "source": [
    "title_basics['isAdult']"
   ]
  },
  {
   "cell_type": "code",
   "execution_count": 18,
   "id": "534667bc-6850-4ee6-81d0-b3d9e0846f85",
   "metadata": {},
   "outputs": [
    {
     "name": "stdout",
     "output_type": "stream",
     "text": [
      "Empty DataFrame\n",
      "Columns: [tconst, titleType, primaryTitle, originalTitle, isAdult, startYear, endYear, runtimeMinutes, genres]\n",
      "Index: []\n"
     ]
    }
   ],
   "source": [
    "adult_titles = title_basics[title_basics['isAdult'] == 1]\n",
    "\n",
    "print(adult_titles)\n"
   ]
  },
  {
   "cell_type": "code",
   "execution_count": 22,
   "id": "6559540b-2f93-40cd-8f09-cb6b500d9708",
   "metadata": {},
   "outputs": [
    {
     "data": {
      "text/plain": [
       "0                    Documentary,Short\n",
       "1                      Animation,Short\n",
       "2             Animation,Comedy,Romance\n",
       "3                      Animation,Short\n",
       "4                         Comedy,Short\n",
       "                       ...            \n",
       "11204413           Action,Drama,Family\n",
       "11204414           Action,Drama,Family\n",
       "11204415           Action,Drama,Family\n",
       "11204416                         Short\n",
       "11204417    Adventure,Animation,Comedy\n",
       "Name: genres, Length: 11204418, dtype: object"
      ]
     },
     "execution_count": 22,
     "metadata": {},
     "output_type": "execute_result"
    }
   ],
   "source": [
    "title_basics['genres']"
   ]
  },
  {
   "cell_type": "code",
   "execution_count": 26,
   "id": "c56ba2bb-8207-4a2f-bdc4-a9b159763af4",
   "metadata": {},
   "outputs": [
    {
     "name": "stdout",
     "output_type": "stream",
     "text": [
      "             tconst  titleType                     primaryTitle  \\\n",
      "587       tt0000591      movie                 The Prodigal Son   \n",
      "610       tt0000615      movie               Robbery Under Arms   \n",
      "625       tt0000630      movie                           Hamlet   \n",
      "668       tt0000675      movie                      Don Quijote   \n",
      "876       tt0000886      movie        Hamlet, Prince of Denmark   \n",
      "...             ...        ...                              ...   \n",
      "11204252  tt9916506  tvEpisode                    Episode #1.20   \n",
      "11204268  tt9916538      movie              Kuambil Lagi Hatiku   \n",
      "11204308  tt9916620      movie                The Copeland Case   \n",
      "11204341  tt9916692    tvMovie  Teatroteka: Czlowiek bez twarzy   \n",
      "11204358  tt9916730      movie                           6 Gunn   \n",
      "\n",
      "                            originalTitle isAdult startYear endYear  \\\n",
      "587                     L'enfant prodigue       0      1907      \\N   \n",
      "610                    Robbery Under Arms       0      1907      \\N   \n",
      "625                                Amleto       0      1908      \\N   \n",
      "668                           Don Quijote       0      1908      \\N   \n",
      "876                                Hamlet       0      1910      \\N   \n",
      "...                                   ...     ...       ...     ...   \n",
      "11204252                    Episode #1.20       0      2019      \\N   \n",
      "11204268              Kuambil Lagi Hatiku       0      2019      \\N   \n",
      "11204308                The Copeland Case       0        \\N      \\N   \n",
      "11204341  Teatroteka: Czlowiek bez twarzy       0      2015      \\N   \n",
      "11204358                           6 Gunn       0      2017      \\N   \n",
      "\n",
      "         runtimeMinutes genres  \n",
      "587                  90  Drama  \n",
      "610                  \\N  Drama  \n",
      "625                  \\N  Drama  \n",
      "668                  \\N  Drama  \n",
      "876                  \\N  Drama  \n",
      "...                 ...    ...  \n",
      "11204252             \\N  Drama  \n",
      "11204268            123  Drama  \n",
      "11204308             \\N  Drama  \n",
      "11204341             66  Drama  \n",
      "11204358            116  Drama  \n",
      "\n",
      "[1268899 rows x 9 columns]\n"
     ]
    }
   ],
   "source": [
    "drama_titles = title_basics[title_basics['genres'] == 'Drama']\n",
    "print (drama_titles)"
   ]
  },
  {
   "cell_type": "code",
   "execution_count": 36,
   "id": "bccb010c-4e17-4266-b0f3-97ef6c9fe5d1",
   "metadata": {},
   "outputs": [
    {
     "name": "stdout",
     "output_type": "stream",
     "text": [
      "['Action', 'Adult', 'Adventure', 'Animation', 'Biography', 'Comedy', 'Crime', 'Documentary', 'Drama', 'Family', 'Fantasy', 'Film-Noir', 'Game-Show', 'History', 'Horror', 'Music', 'Musical', 'Mystery', 'News', 'Reality-TV', 'Romance', 'Sci-Fi', 'Short', 'Sport', 'Talk-Show', 'Thriller', 'War', 'Western', '\\\\N']\n"
     ]
    }
   ],
   "source": [
    "all_genres = []\n",
    "\n",
    "for genres in title_basics['genres']:\n",
    "    if pd.notna(genres): \n",
    "        all_genres.append(genres)\n",
    "\n",
    "unique_genres_list = sorted(unique_genres)\n",
    "\n",
    "print(unique_genres_list)\n",
    "\n"
   ]
  },
  {
   "cell_type": "code",
   "execution_count": null,
   "id": "e72c75b7-f63d-473d-b285-ee23955b2450",
   "metadata": {},
   "outputs": [],
   "source": []
  },
  {
   "cell_type": "code",
   "execution_count": 39,
   "id": "aeec7ead-1204-45f2-a323-e7e104ea00a6",
   "metadata": {},
   "outputs": [
    {
     "name": "stdout",
     "output_type": "stream",
     "text": [
      "Counter({'Drama': 3166374, 'Comedy': 2186499, 'Talk-Show': 1379324, 'Short': 1195943, 'Documentary': 1065005, 'News': 1055368, 'Romance': 1048905, 'Family': 825548, 'Reality-TV': 626933, 'Animation': 558212, '\\\\N': 499164, 'Action': 464396, 'Crime': 462026, 'Game-Show': 426483, 'Adventure': 425652, 'Music': 420080, 'Adult': 355472, 'Sport': 273342, 'Fantasy': 234512, 'Mystery': 225665, 'Horror': 202710, 'Thriller': 185498, 'History': 165429, 'Biography': 120007, 'Sci-Fi': 117684, 'Musical': 92249, 'War': 38808, 'Western': 30962, 'Film-Noir': 872})\n"
     ]
    }
   ],
   "source": [
    "#pie chart by genre (group by category and count) 1 group by luego count \n",
    "#ya esta arriba \n",
    "\n",
    "#count each per category \n",
    "genre_counter = Counter(all_genres)\n",
    "print (genre_counter)\n",
    "    \n",
    "    \n",
    "\n",
    "\n"
   ]
  },
  {
   "cell_type": "code",
   "execution_count": 57,
   "id": "372dd5b6-c45c-4768-a319-5870789c8a1b",
   "metadata": {},
   "outputs": [
    {
     "data": {
      "image/png": "[encoded data removed]",
      "text/plain": [
       "<Figure size 640x480 with 1 Axes>"
      ]
     },
     "metadata": {},
     "output_type": "display_data"
    }
   ],
   "source": [
    "#make the pie chart \n",
    "\n",
    "\n",
    "# Choose how many real genres you want to have.\n",
    "top_n = 10\n",
    "\n",
    "# Initialize an empty dictionary.\n",
    "top_n_dictionary = {}\n",
    "\n",
    "# Get all keys and values in a list.\n",
    "sorted_keys = sorted(genre_counter, key=lambda k: genre_counter[k], reverse=True)\n",
    "\n",
    "all_keys = list(sorted_keys)\n",
    "all_values = [genre_counter[key] for key in all_keys]\n",
    "\n",
    "# Update top_n_dictionary to have the relevant keys/values.\n",
    "for i in range(top_n):\n",
    "    top_n_dictionary[all_keys[i]] = all_values[i]\n",
    "    \n",
    "# Create the key called \"Other\" that sums together all other key/value pairs.\n",
    "top_n_dictionary[\"Other\"] = np.sum(\n",
    "    [\n",
    "        genre_counter[key] for key in all_keys[top_n:]\n",
    "    ]\n",
    ")\n",
    "\n",
    "# Plot the pie chart.\n",
    "plt.pie(\n",
    "    x = top_n_dictionary.values(),\n",
    "    labels = top_n_dictionary.keys()\n",
    ")\n",
    "\n",
    "plt.title('Main genres in IMDB')\n",
    "plt.show()\n",
    "\n",
    "\n"
   ]
  },
  {
   "cell_type": "code",
   "execution_count": 35,
   "id": "4d451ea8-7a38-49ea-bf68-a85f08686917",
   "metadata": {},
   "outputs": [
    {
     "name": "stderr",
     "output_type": "stream",
     "text": [
      "/var/folders/2b/p_02_vw56dz2qcq7yt8y1xh40000gn/T/ipykernel_1583/3548808439.py:6: SettingWithCopyWarning: \n",
      "A value is trying to be set on a copy of a slice from a DataFrame.\n",
      "Try using .loc[row_indexer,col_indexer] = value instead\n",
      "\n",
      "See the caveats in the documentation: https://pandas.pydata.org/pandas-docs/stable/user_guide/indexing.html#returning-a-view-versus-a-copy\n",
      "  actresses['is_actor_or_actress'] = 'actress'\n",
      "/var/folders/2b/p_02_vw56dz2qcq7yt8y1xh40000gn/T/ipykernel_1583/3548808439.py:7: SettingWithCopyWarning: \n",
      "A value is trying to be set on a copy of a slice from a DataFrame.\n",
      "Try using .loc[row_indexer,col_indexer] = value instead\n",
      "\n",
      "See the caveats in the documentation: https://pandas.pydata.org/pandas-docs/stable/user_guide/indexing.html#returning-a-view-versus-a-copy\n",
      "  actors['is_actor_or_actress'] = 'actor'\n"
     ]
    },
    {
     "data": {
      "text/plain": [
       "Index(['actor', 'actress'], dtype='object', name='is_actor_or_actress')"
      ]
     },
     "execution_count": 35,
     "metadata": {},
     "output_type": "execute_result"
    }
   ],
   "source": [
    "#filter the information in the table containting tha words actor or actress \n",
    "actresses= name_basics[name_basics['primaryProfession'].str.contains('actress')]\n",
    "actors= name_basics[name_basics['primaryProfession'].str.contains('actor')]\n",
    "\n",
    "#adding a column as a label that indicates whos an actor or an actress\n",
    "actresses['is_actor_or_actress'] = 'actress'\n",
    "actors['is_actor_or_actress'] = 'actor'\n",
    "\n",
    "#unify the two columns into one \n",
    "actors_and_actresses= pd.concat([actresses,actors])\n",
    "\n",
    "#group by the clumn is_actor_or_actress and counting the ammount in each category \n",
    "pie_chart_aa = actors_and_actresses.groupby('is_actor_or_actress')['is_actor_or_actress'].count()\n",
    "\n",
    "pie_chart_aa.keys()    \n",
    "\n"
   ]
  },
  {
   "cell_type": "code",
   "execution_count": 41,
   "id": "1486c4e8",
   "metadata": {},
   "outputs": [
    {
     "data": {
      "image/png": "[encoded data removed]",
      "text/plain": [
       "<Figure size 640x480 with 1 Axes>"
      ]
     },
     "metadata": {},
     "output_type": "display_data"
    }
   ],
   "source": [
    "plt.pie(\n",
    "    x = list(pie_chart_aa),\n",
    "    labels = pie_chart_aa.keys(),\n",
    "    autopct='%1.1f%%'\n",
    ")\n",
    "\n",
    "plt.title('Amount actors and actresses')\n",
    "plt.show()"
   ]
  },
  {
   "cell_type": "code",
   "execution_count": null,
   "id": "0283020b-f924-45b4-8a97-1852ead36e58",
   "metadata": {},
   "outputs": [
    {
     "data": {
      "text/plain": [
       "[3221860, 1948050]"
      ]
     },
     "execution_count": 39,
     "metadata": {},
     "output_type": "execute_result"
    }
   ],
   "source": [
    "list(pie_chart_aa)"
   ]
  },
  {
   "cell_type": "code",
   "execution_count": null,
   "id": "ba1dcd6d-46e5-416d-84bb-acd491f85af2",
   "metadata": {},
   "outputs": [
    {
     "data": {
      "text/plain": [
       "birthYear\n",
       "\\N      4793382\n",
       "1980       6144\n",
       "1982       6051\n",
       "1981       6044\n",
       "1979       5930\n",
       "         ...   \n",
       "1829          1\n",
       "1832          1\n",
       "1564          1\n",
       "1792          1\n",
       "1827          1\n",
       "Name: count, Length: 208, dtype: int64"
      ]
     },
     "execution_count": 44,
     "metadata": {},
     "output_type": "execute_result"
    }
   ],
   "source": [
    "#identify weird values\n",
    "actors_and_actresses['birthYear'].value_counts()\n",
    "\n"
   ]
  },
  {
   "cell_type": "code",
   "execution_count": 47,
   "id": "cd8566cb-1b89-48fa-a06f-a54dee704dce",
   "metadata": {},
   "outputs": [
    {
     "data": {
      "text/plain": [
       "birthYear\n",
       "1980    6144\n",
       "1982    6051\n",
       "1981    6044\n",
       "1979    5930\n",
       "1984    5851\n",
       "        ... \n",
       "1829       1\n",
       "1832       1\n",
       "1564       1\n",
       "1792       1\n",
       "1827       1\n",
       "Name: count, Length: 207, dtype: int64"
      ]
     },
     "execution_count": 47,
     "metadata": {},
     "output_type": "execute_result"
    }
   ],
   "source": [
    "#filter /N values\n",
    "actors_and_actresses_not_null = actors_and_actresses[actors_and_actresses['birthYear']!= '\\\\N']\n",
    "actors_and_actresses_not_null['birthYear'].value_counts()"
   ]
  },
  {
   "cell_type": "code",
   "execution_count": 128,
   "id": "0b9f7b76-2f03-41db-a5dd-2d129e62457a",
   "metadata": {},
   "outputs": [
    {
     "data": {
      "text/plain": [
       "(1800.0, 2030.0)"
      ]
     },
     "execution_count": 128,
     "metadata": {},
     "output_type": "execute_result"
    },
    {
     "data": {
      "image/png": "[encoded data removed]",
      "text/plain": [
       "<Figure size 640x480 with 1 Axes>"
      ]
     },
     "metadata": {},
     "output_type": "display_data"
    }
   ],
   "source": [
    "import math\n",
    "x= [1840,2024]\n",
    "actors_and_actresses_not_null['birthYear'] = actors_and_actresses_not_null['birthYear'].astype(int)\n",
    "def computeTicks (x, step = 5):\n",
    "    \"\"\"\n",
    "    Computes domain with given step encompassing series x\n",
    "    @ params\n",
    "    x    - Required - A list-like object of integers or floats\n",
    "    step - Optional - Tick frequency\n",
    "    \"\"\"\n",
    "    xMax, xMin = math.ceil(max(x)), math.floor(min(x))\n",
    "    dMax, dMin = xMax + abs((xMax % step) - step) + (step if (xMax % step != 0) else 0), xMin - abs((xMin % step))\n",
    "    return range(dMin, dMax, step)\n",
    "\n",
    "sns.histplot( data = actors_and_actresses_not_null, x=\"birthYear\",hue= 'is_actor_or_actress', bins=50)\n",
    "plt.title('Birth year of actors and actresses')\n",
    "#plt.xticks(computeTicks(list(actors_and_actresses_not_null[\"birthYear\"]),step= 20))\n",
    "plt.xticks(computeTicks(x, step= 20))\n",
    "plt.xticks(rotation= 45)\n",
    "plt.xlim(1800, 2030)\n"
   ]
  },
  {
   "cell_type": "code",
   "execution_count": null,
   "id": "1501190b-128e-483d-bd66-98b223c1edfd",
   "metadata": {},
   "outputs": [
    {
     "data": {
      "text/plain": [
       "birthYear\n",
       "1980    6144\n",
       "1982    6051\n",
       "1981    6044\n",
       "1979    5930\n",
       "1984    5851\n",
       "        ... \n",
       "1829       1\n",
       "1832       1\n",
       "1564       1\n",
       "1792       1\n",
       "1827       1\n",
       "Name: count, Length: 207, dtype: int64"
      ]
     },
     "execution_count": 74,
     "metadata": {},
     "output_type": "execute_result"
    }
   ],
   "source": [
    "actors_and_actresses_not_null = actors_and_actresses[actors_and_actresses['birthYear']!= '\\\\N']\n",
    "actors_and_actresses_not_null['birthYear'].value_counts()\n",
    "\n"
   ]
  },
  {
   "cell_type": "code",
   "execution_count": null,
   "id": "7c2b3a8b-d981-480d-b539-36f650cf4d02",
   "metadata": {},
   "outputs": [
    {
     "name": "stdout",
     "output_type": "stream",
     "text": [
      "1            tt0037382\n",
      "2            tt0057345\n",
      "5            tt0034583\n",
      "11           tt0042192\n",
      "12           tt0048317\n",
      "               ...    \n",
      "13914478     tt1094354\n",
      "13914482     tt8606950\n",
      "13914498    tt21745568\n",
      "13914512    tt18361688\n",
      "13914520    tt11212278\n",
      "Name: first_famous_movie, Length: 2062671, dtype: object\n"
     ]
    }
   ],
   "source": [
    "# extract through a regex (regular expression) the first famous movie of each actor and actress \n",
    "actors_and_actresses['first_famous_movie'] = actors_and_actresses['knownForTitles'].str.extract('(.+?),')[0]\n",
    "actors_and_actresses.dropna(subset=['first_famous_movie'], inplace=True)\n",
    "print (actors_and_actresses['first_famous_movie'])\n",
    "\n",
    "\n"
   ]
  },
  {
   "cell_type": "code",
   "execution_count": 119,
   "id": "913f7d07",
   "metadata": {},
   "outputs": [
    {
     "name": "stdout",
     "output_type": "stream",
     "text": [
      "1            tt0037382\n",
      "2            tt0057345\n",
      "5            tt0034583\n",
      "11           tt0042192\n",
      "12           tt0048317\n",
      "               ...    \n",
      "13913443     tt9168904\n",
      "13913647     tt3581920\n",
      "13913653    tt14902026\n",
      "13914074    tt15531294\n",
      "13914373    tt10187208\n",
      "Name: first_famous_movie, Length: 337435, dtype: object\n",
      "Index(['nconst', 'primaryName', 'birthYear', 'deathYear', 'primaryProfession',\n",
      "       'knownForTitles', 'first_famous_movie_x', 'first_famous_movie_y',\n",
      "       'first_famous_movie'],\n",
      "      dtype='object')\n"
     ]
    },
    {
     "name": "stderr",
     "output_type": "stream",
     "text": [
      "/var/folders/2b/p_02_vw56dz2qcq7yt8y1xh40000gn/T/ipykernel_1583/2812696854.py:19: SettingWithCopyWarning: \n",
      "A value is trying to be set on a copy of a slice from a DataFrame.\n",
      "Try using .loc[row_indexer,col_indexer] = value instead\n",
      "\n",
      "See the caveats in the documentation: https://pandas.pydata.org/pandas-docs/stable/user_guide/indexing.html#returning-a-view-versus-a-copy\n",
      "  actresses['is_actor_or_actress'] = 'actress'\n",
      "/var/folders/2b/p_02_vw56dz2qcq7yt8y1xh40000gn/T/ipykernel_1583/2812696854.py:20: SettingWithCopyWarning: \n",
      "A value is trying to be set on a copy of a slice from a DataFrame.\n",
      "Try using .loc[row_indexer,col_indexer] = value instead\n",
      "\n",
      "See the caveats in the documentation: https://pandas.pydata.org/pandas-docs/stable/user_guide/indexing.html#returning-a-view-versus-a-copy\n",
      "  actors['is_actor_or_actress'] = 'actor'\n"
     ]
    },
    {
     "name": "stdout",
     "output_type": "stream",
     "text": [
      "            tconst titleType              primaryTitle  \\\n",
      "0        tt0000009     movie                Miss Jerry   \n",
      "1        tt0000009     movie                Miss Jerry   \n",
      "2        tt0000061     short             Dancing Girls   \n",
      "3        tt0000172     short           The X-Ray Fiend   \n",
      "4        tt0000190     short   Dostavenícko ve mlýnici   \n",
      "...            ...       ...                       ...   \n",
      "2063814  tt9916706     movie           Dankyavar Danka   \n",
      "2063815  tt9916706     movie           Dankyavar Danka   \n",
      "2063816  tt9916730     movie                    6 Gunn   \n",
      "2063817  tt9916756     short  Pretty Pretty Black Girl   \n",
      "2063818  tt9916764     short                        38   \n",
      "\n",
      "                    originalTitle isAdult startYear endYear runtimeMinutes  \\\n",
      "0                      Miss Jerry       0      1894      \\N             45   \n",
      "1                      Miss Jerry       0      1894      \\N             45   \n",
      "2                   Dancing Girls       0      1896      \\N             \\N   \n",
      "3                 The X-Ray Fiend       0      1897      \\N              1   \n",
      "4         Dostavenícko ve mlýnici       0      1898      \\N              1   \n",
      "...                           ...     ...       ...     ...            ...   \n",
      "2063814           Dankyavar Danka       0      2013      \\N             \\N   \n",
      "2063815           Dankyavar Danka       0      2013      \\N             \\N   \n",
      "2063816                    6 Gunn       0      2017      \\N            116   \n",
      "2063817  Pretty Pretty Black Girl       0      2019      \\N             \\N   \n",
      "2063818                        38       0      2018      \\N             \\N   \n",
      "\n",
      "                      genres      nconst                primaryName birthYear  \\\n",
      "0                    Romance   nm0183823          William Courtenay      1875   \n",
      "1                    Romance   nm1309758             Chauncey Depew      1834   \n",
      "2                      Short   nm4007970             Alhambra Girls        \\N   \n",
      "3        Comedy,Horror,Short   nm0338379                  Tom Green      1852   \n",
      "4               Comedy,Short   nm0841389    Josef Sváb-Malostranský      1860   \n",
      "...                      ...         ...                        ...       ...   \n",
      "2063814               Comedy   nm3641754              Sandip Pathak        \\N   \n",
      "2063815               Comedy   nm9722084               Arjun Jadhav        \\N   \n",
      "2063816                Drama   nm6096005            Devadhar Archit        \\N   \n",
      "2063817                Short  nm10538639              Brianna Laren        \\N   \n",
      "2063818                Short   nm9992000  Allegra Montgomery Walker        \\N   \n",
      "\n",
      "        deathYear        primaryProfession  \\\n",
      "0            1933                    actor   \n",
      "1            1928             actor,writer   \n",
      "2              \\N                  actress   \n",
      "3            1942    director,actor,writer   \n",
      "4            1932    actor,writer,director   \n",
      "...           ...                      ...   \n",
      "2063814        \\N                    actor   \n",
      "2063815        \\N    actor,cinematographer   \n",
      "2063816        \\N                    actor   \n",
      "2063817        \\N  director,actress,writer   \n",
      "2063818        \\N           actor,producer   \n",
      "\n",
      "                                  knownForTitles first_famous_movie_x  \\\n",
      "0        tt0000009,tt0020355,tt0021535,tt0020403            tt0000009   \n",
      "1        tt0000009,tt0490842,tt1076833,tt4484306            tt0000009   \n",
      "2                            tt0000061,tt0188250            tt0000061   \n",
      "3        tt0000172,tt0213840,tt1258693,tt1254736            tt0000172   \n",
      "4        tt0000190,tt0310395,tt1075008,tt0006769            tt0000190   \n",
      "...                                          ...                  ...   \n",
      "2063814           tt9916706,tt32317640,tt1524539            tt9916706   \n",
      "2063815                      tt9916706,tt8180580            tt9916706   \n",
      "2063816            tt9916730,tt3341582,tt4292228            tt9916730   \n",
      "2063817                      tt9916756,tt9680432            tt9916756   \n",
      "2063818                      tt9916764,tt8740118            tt9916764   \n",
      "\n",
      "        first_famous_movie_y first_famous_movie is_actor_or_actress  \n",
      "0                  tt0000009          tt0000009               actor  \n",
      "1                  tt0000009          tt0000009               actor  \n",
      "2                  tt0000061          tt0000061             actress  \n",
      "3                  tt0000172          tt0000172               actor  \n",
      "4                  tt0000190          tt0000190               actor  \n",
      "...                      ...                ...                 ...  \n",
      "2063814            tt9916706          tt9916706               actor  \n",
      "2063815            tt9916706          tt9916706               actor  \n",
      "2063816            tt9916730          tt9916730               actor  \n",
      "2063817            tt9916756          tt9916756             actress  \n",
      "2063818            tt9916764          tt9916764               actor  \n",
      "\n",
      "[2063814 rows x 19 columns]\n"
     ]
    }
   ],
   "source": [
    "# extract through a regex (regular expression) the first famous movie of each actor and actress \n",
    "actors_and_actresses_not_null['first_famous_movie'] = actors_and_actresses_not_null['knownForTitles'].str.extract('(.+?),')[0]\n",
    "actors_and_actresses_not_null.dropna(subset=['first_famous_movie'], inplace=True)\n",
    "print (actors_and_actresses_not_null['first_famous_movie'])\n",
    "#add first_famous_movie to the table name_basics to later put together with actors and actresses \n",
    "\n",
    "actors_and_actresses_not_null['first_famous_movie'] = actors_and_actresses_not_null['knownForTitles'].str.extract('(.+?),')[0]\n",
    "actors_and_actresses_not_null.dropna(subset=['first_famous_movie'], inplace=True)\n",
    "\n",
    "\n",
    "name_basics['first_famous_movie'] = name_basics['knownForTitles'].str.extract('(.+?),')[0]\n",
    "print(name_basics.columns)\n",
    "\n",
    "#filter the information in the table containting tha words actor or actress \n",
    "actresses= name_basics[name_basics['primaryProfession'].str.contains('actress')]\n",
    "actors= name_basics[name_basics['primaryProfession'].str.contains('actor')]\n",
    "\n",
    "#adding a column as a label that indicates whos an actor or an actress\n",
    "actresses['is_actor_or_actress'] = 'actress'\n",
    "actors['is_actor_or_actress'] = 'actor'\n",
    "\n",
    "#unify the two columns into one \n",
    "actors_and_actresses= pd.concat([actresses,actors])\n",
    "\n",
    "\n",
    "\n",
    "#merge start year from title_basics to name_basics     \n",
    "new_table = pd.merge(title_basics, actors_and_actresses, left_on='tconst', right_on='first_famous_movie')\n",
    "new_table.dropna(inplace=True)\n",
    "start_years = new_table['startYear']\n",
    "print (new_table)\n"
   ]
  },
  {
   "cell_type": "code",
   "execution_count": 122,
   "id": "6d673106",
   "metadata": {},
   "outputs": [
    {
     "name": "stdout",
     "output_type": "stream",
     "text": [
      "Index(['tconst', 'titleType', 'primaryTitle', 'originalTitle', 'isAdult',\n",
      "       'startYear', 'endYear', 'runtimeMinutes', 'genres', 'nconst',\n",
      "       'primaryName', 'birthYear', 'deathYear', 'primaryProfession',\n",
      "       'knownForTitles', 'first_famous_movie_x', 'first_famous_movie_y',\n",
      "       'first_famous_movie', 'is_actor_or_actress'],\n",
      "      dtype='object')\n"
     ]
    }
   ],
   "source": [
    "print(new_table.columns)"
   ]
  },
  {
   "cell_type": "code",
   "execution_count": null,
   "id": "2d60447c",
   "metadata": {},
   "outputs": [
    {
     "data": {
      "text/plain": [
       "(1900.0, 2030.0)"
      ]
     },
     "execution_count": 136,
     "metadata": {},
     "output_type": "execute_result"
    },
    {
     "data": {
      "image/png": "[encoded data removed]",
      "text/plain": [
       "<Figure size 640x480 with 1 Axes>"
      ]
     },
     "metadata": {},
     "output_type": "display_data"
    }
   ],
   "source": [
    "import math\n",
    "\n",
    "x= [1840,2024]\n",
    "new_table['startYear'] = pd.to_numeric(new_table['startYear'], errors='coerce')\n",
    "new_table.dropna(subset=['startYear'], inplace=True)\n",
    "new_table['startYear'] = new_table['startYear'].astype(int)\n",
    "\n",
    "def computeTicks (x, step = 5):\n",
    "    \"\"\"\n",
    "    Computes domain with given step encompassing series x\n",
    "    @ params\n",
    "    x    - Required - A list-like object of integers or floats\n",
    "    step - Optional - Tick frequency\n",
    "    \"\"\"\n",
    "    xMax, xMin = math.ceil(max(x)), math.floor(min(x))\n",
    "    dMax, dMin = xMax + abs((xMax % step) - step) + (step if (xMax % step != 0) else 0), xMin - abs((xMin % step))\n",
    "    return range(dMin, dMax, step)\n",
    "\n",
    "sns.histplot(data=new_table, x=\"startYear\", hue='is_actor_or_actress', bins=50)\n",
    "\n",
    "plt.title('Year of famous movie/series for actors and actresses')\n",
    "plt.figtext(0.5, -0.1, 'notable increase in gender diversity and volume post-2000s', \n",
    "            ha='center', fontsize=10)\n",
    "#plt.xticks(computeTicks(list(actors_and_actresses_not_null[\"birthYear\"]),step= 20))\n",
    "plt.xticks(computeTicks(x, step= 20))\n",
    "plt.xticks(rotation= 45)\n",
    "plt.xlim(1900, 2030)"
   ]
  }
 ],
 "metadata": {
  "kernelspec": {
   "display_name": "Python 3",
   "language": "python",
   "name": "python3"
  },
  "language_info": {
   "codemirror_mode": {
    "name": "ipython",
    "version": 3
   },
   "file_extension": ".py",
   "mimetype": "text/x-python",
   "name": "python",
   "nbconvert_exporter": "python",
   "pygments_lexer": "ipython3",
   "version": "3.13.0"
  }
 },
 "nbformat": 4,
 "nbformat_minor": 5
}
